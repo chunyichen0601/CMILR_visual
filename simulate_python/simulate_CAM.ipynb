{
 "cells": [
  {
   "attachments": {},
   "cell_type": "markdown",
   "metadata": {},
   "source": [
    "# 模擬資料"
   ]
  },
  {
   "cell_type": "code",
   "execution_count": 1,
   "metadata": {},
   "outputs": [],
   "source": [
    "import numpy as np\n",
    "import pandas as pd\n",
    "import scipy\n",
    "import random\n",
    "from scipy.stats import poisson,uniform\n",
    "import matplotlib.pyplot as plt\n",
    "from PIL import Image as im\n",
    "import tensorflow as tf\n",
    "from tensorflow import keras"
   ]
  },
  {
   "attachments": {},
   "cell_type": "markdown",
   "metadata": {},
   "source": [
    "## 參數設定"
   ]
  },
  {
   "cell_type": "code",
   "execution_count": 2,
   "metadata": {},
   "outputs": [],
   "source": [
    "kernel_value = np.array([3, 3])\n",
    "image_size = np.array([10, 10])"
   ]
  },
  {
   "attachments": {},
   "cell_type": "markdown",
   "metadata": {},
   "source": [
    "## 函數"
   ]
  },
  {
   "cell_type": "code",
   "execution_count": 4,
   "metadata": {},
   "outputs": [],
   "source": [
    "def Simulate_Image(n, img_h=10, img_w=10, pat_shape=np.ones((3,3))):\n",
    "    Pat_h = pat_shape.shape[0]; Pat_w = pat_shape.shape[1] \n",
    "    W = np.random.random((n, img_h, img_w))\n",
    "    Y_num = np.random.poisson(lam = 0.72, size = n)\n",
    "    for i in np.arange(n) :\n",
    "        if Y_num[i] > 0 :\n",
    "            Y_i = np.random.choice(np.arange(img_h-Pat_h+1), Y_num[i]).astype(int)   \n",
    "            Y_j = np.random.choice(np.arange(img_h-Pat_w+1), Y_num[i]).astype(int)\n",
    "            for k in np.arange(Y_num[i]) :\n",
    "                r_p = pat_shape * random.uniform(0,1)\n",
    "                W[i, Y_i[k]:Y_i[k]+3, Y_j[k]:Y_j[k]+3] = r_p\n",
    "            else :\n",
    "                None\n",
    "                \n",
    "    categorized_list = np.empty((0, 0))\n",
    "    for num in Y_num:\n",
    "        if num > 0:\n",
    "            categorized_list = np.append(categorized_list, 1)\n",
    "        else:\n",
    "            categorized_list = np.append(categorized_list, 0)\n",
    "\n",
    "    L = {'image' : W, 'label' : categorized_list}\n",
    "    return(L)"
   ]
  }
 ],
 "metadata": {
  "kernelspec": {
   "display_name": "Python 3",
   "language": "python",
   "name": "python3"
  },
  "language_info": {
   "codemirror_mode": {
    "name": "ipython",
    "version": 3
   },
   "file_extension": ".py",
   "mimetype": "text/x-python",
   "name": "python",
   "nbconvert_exporter": "python",
   "pygments_lexer": "ipython3",
   "version": "3.9.10"
  },
  "orig_nbformat": 4
 },
 "nbformat": 4,
 "nbformat_minor": 2
}
